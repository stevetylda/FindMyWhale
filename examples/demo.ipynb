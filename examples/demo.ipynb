{
 "cells": [
  {
   "cell_type": "markdown",
   "id": "fa83fefa",
   "metadata": {},
   "source": [
    "# FindMyWhale Localization Demo Notebook\n",
    "\n",
    "## Overview\n",
    "\n",
    "This notebook accesses data via \n",
    "\n",
    "\n",
    "## Table of Contents\n",
    "\n",
    "\n",
    "\n"
   ]
  },
  {
   "cell_type": "code",
   "execution_count": 1,
   "id": "a85753c2",
   "metadata": {},
   "outputs": [],
   "source": [
    "# ------------------------------------------------- #\n",
    "#                      MODULES                      #\n",
    "\n",
    "# General Modules\n",
    "import os\n",
    "import sys\n",
    "import pandas as pd\n",
    "import numpy as np\n",
    "\n",
    "sys.path.append(os.path.abspath(\"..\"))\n",
    "\n",
    "import plotly.express as px\n",
    "import seaborn as sns\n",
    "import matplotlib.pyplot as plt\n",
    "\n",
    "#\n",
    "from findmywhale import data_collect\n",
    "\n",
    "#                                                   #\n",
    "# ------------------------------------------------- #"
   ]
  },
  {
   "cell_type": "code",
   "execution_count": null,
   "id": "1c526415",
   "metadata": {},
   "outputs": [],
   "source": []
  },
  {
   "cell_type": "code",
   "execution_count": null,
   "id": "610218d9",
   "metadata": {},
   "outputs": [],
   "source": []
  },
  {
   "cell_type": "code",
   "execution_count": null,
   "id": "e568eb59",
   "metadata": {},
   "outputs": [
    {
     "data": {
      "text/plain": [
       "'/Users/tylerstevenson/Documents/FindMyWhale/examples'"
      ]
     },
     "execution_count": 73,
     "metadata": {},
     "output_type": "execute_result"
    }
   ],
   "source": [
    "'/Users/tylerstevenson/Documents/FindMyWhale/data/"
   ]
  },
  {
   "cell_type": "code",
   "execution_count": null,
   "id": "a735404d",
   "metadata": {},
   "outputs": [],
   "source": [
    "required_columns = {\n",
    "    \"type\",\n",
    "    \"created\",\n",
    "    \"trusted\",\n",
    "    \"latitude\",\n",
    "    \"longitude\",\n",
    "    \"no_sighted\",\n",
    "}"
   ]
  },
  {
   "cell_type": "code",
   "execution_count": 45,
   "id": "5bab0be5",
   "metadata": {},
   "outputs": [
    {
     "data": {
      "text/plain": [
       "['trusted', 'longitude', 'latitude', 'type', 'created', 'no_sighted']"
      ]
     },
     "execution_count": 45,
     "metadata": {},
     "output_type": "execute_result"
    }
   ],
   "source": [
    "list(required_columns)"
   ]
  },
  {
   "cell_type": "code",
   "execution_count": null,
   "id": "17a3cd17",
   "metadata": {},
   "outputs": [],
   "source": [
    "# Build HLS Metadata Lookup\n",
    "hls_lookup = data_collect.get_hls_folders(bucket_name=\"audio-orcasound-net\")"
   ]
  },
  {
   "cell_type": "code",
   "execution_count": null,
   "id": "ec315c81",
   "metadata": {},
   "outputs": [],
   "source": [
    "hls_lookup[\"DATE\"] = hls_lookup[\"DATETIME\"].dt.date.astype(str)\n",
    "hls_lookup[\"VALUE\"] = 1\n",
    "\n",
    "hls_lookup_pvt = (\n",
    "    pd.pivot_table(hls_lookup, index=\"LOCATION\", columns=\"DATE\", values=\"VALUE\")\n",
    "    .fillna(0)\n",
    "    .astype(int)\n",
    ")"
   ]
  },
  {
   "cell_type": "code",
   "execution_count": null,
   "id": "82c4bab8",
   "metadata": {},
   "outputs": [],
   "source": [
    "hls_lookup_pvt = (\n",
    "    hls_lookup_pvt.unstack().reset_index().rename(columns={0: \"AVAILABILITY\"})\n",
    ")"
   ]
  },
  {
   "cell_type": "code",
   "execution_count": null,
   "id": "19b4287b",
   "metadata": {},
   "outputs": [],
   "source": [
    "hls_lookup_pvt"
   ]
  },
  {
   "cell_type": "code",
   "execution_count": null,
   "id": "b58d397b",
   "metadata": {},
   "outputs": [],
   "source": [
    "df_year = hls_lookup_pvt[hls_lookup_pvt[\"YEAR\"] == year].reset_index(drop=True)"
   ]
  },
  {
   "cell_type": "code",
   "execution_count": null,
   "id": "95de02c8",
   "metadata": {},
   "outputs": [],
   "source": []
  },
  {
   "cell_type": "code",
   "execution_count": null,
   "id": "da82e7ee",
   "metadata": {},
   "outputs": [],
   "source": []
  },
  {
   "cell_type": "code",
   "execution_count": null,
   "id": "c79ae46d",
   "metadata": {},
   "outputs": [],
   "source": [
    "tmp = pd.pivot_table(df_year, index=\"LOCATION\", columns=\"DATE\", values=\"AVAILABILITY\")"
   ]
  },
  {
   "cell_type": "code",
   "execution_count": null,
   "id": "25ebbad1",
   "metadata": {},
   "outputs": [],
   "source": [
    "# # Extract year for grouping\n",
    "# hls_lookup_pvt[\"YEAR\"] = pd.to_datetime(hls_lookup_pvt[\"DATE\"]).dt.year\n",
    "\n",
    "# locations = sorted(hls_lookup_pvt[\"LOCATION\"].unique())\n",
    "# n_locs = len(locations)\n",
    "\n",
    "# # Set up matplotlib subplots: one row per year, 1 column\n",
    "# fig, axes = plt.subplots(n_locs, 1, figsize=(15, 1 * n_locs), sharex=True)\n",
    "\n",
    "# if n_locs == 1:\n",
    "#     axes = [axes]  # Make iterable if only one subplot\n",
    "\n",
    "# for ax, location in zip(axes, locations):\n",
    "#     df_year = hls_lookup_pvt[hls_lookup_pvt[\"LOCATION\"] == location]\n",
    "#     df_year[\"DATE\"] = df_year[\"DATE\"].str[5:].str.replace(\"-\", \"/\")\n",
    "\n",
    "#     # Pivot to matrix: rows=LOCATION, columns=DATE, values=AVAILABILITY\n",
    "#     heatmap_data = df_year.pivot(index=\"YEAR\", columns=\"DATE\", values=\"AVAILABILITY\")\n",
    "\n",
    "#     # Sort columns so dates go left to right\n",
    "#     heatmap_data = heatmap_data.sort_index(axis=1)\n",
    "\n",
    "#     # Plot seaborn heatmap on the axis\n",
    "#     sns.heatmap(\n",
    "#         heatmap_data,\n",
    "#         cmap=[\"lightgray\", \"blue\"],  # Binary colors, lightgray=0, green=1\n",
    "#         cbar=False,  # ax == axes[-1],          # Show colorbar only on last plot\n",
    "#         ax=ax,\n",
    "#         linewidths=0.5,\n",
    "#         linecolor=\"white\",\n",
    "#         square=True,\n",
    "#         vmin=0,\n",
    "#         vmax=1,\n",
    "#         # cbar_kws={'label': 'Availability'}\n",
    "#     )\n",
    "\n",
    "#     ax.set_title(f\"Availability in {location}\")\n",
    "#     ax.set_xlabel(\"\")\n",
    "#     ax.set_ylabel(\"Year\")\n",
    "#     ax.tick_params(axis=\"x\", labelsize=6)\n",
    "#     ax.tick_params(axis=\"y\", labelsize=6)\n",
    "\n",
    "# # Rotate date labels on the bottom plot only\n",
    "# plt.setp(axes[-1].get_xticklabels(), rotation=45, ha=\"right\")\n",
    "\n",
    "# plt.tight_layout()\n",
    "# plt.show()"
   ]
  },
  {
   "cell_type": "code",
   "execution_count": null,
   "id": "a125c067",
   "metadata": {},
   "outputs": [],
   "source": [
    "# Open BC Data\n",
    "import geopandas as gpd"
   ]
  },
  {
   "cell_type": "code",
   "execution_count": null,
   "id": "1c441808",
   "metadata": {},
   "outputs": [],
   "source": [
    "bc_gdf = gpd.read_file(\n",
    "    \"/Users/tylerstevenson/Documents/FindMyWhale/data/bcmca_eco_physical_ecosections_data/BCMCA_ECO_Physical_Ecosections_Data.shp\"\n",
    ")\n",
    "# bc_gdf[bc_gdf.MARSECTION == 'Strait of Georgia'].explore()"
   ]
  },
  {
   "cell_type": "code",
   "execution_count": null,
   "id": "fb436585",
   "metadata": {},
   "outputs": [],
   "source": [
    "bc_gdf.explore()"
   ]
  },
  {
   "cell_type": "code",
   "execution_count": null,
   "id": "70ad7635",
   "metadata": {},
   "outputs": [],
   "source": [
    "import h3\n",
    "\n",
    "from shapely.geometry import shape\n",
    "from shapely.geometry import Polygon"
   ]
  },
  {
   "cell_type": "code",
   "execution_count": null,
   "id": "695fe521",
   "metadata": {},
   "outputs": [],
   "source": [
    "# Source: https://soggy2.zoology.ubc.ca/geonetwork/srv/eng/catalog.search#/metadata/e1da07ca-353d-4b8a-a08b-643885e89e3b\n",
    "bc_gdf = gpd.read_file(\n",
    "    \"/Users/tylerstevenson/Documents/FindMyWhale/data/ssea_regions/ssea_regions.shp\"\n",
    ")\n",
    "bc_gdf = bc_gdf.dissolve()\n",
    "\n",
    "bc_gdf_sampled_points = bc_gdf.sample_points(size=500, method=\"uniform\")\n",
    "bc_gdf_sampled_points = bc_gdf_sampled_points.reset_index().explode()\n",
    "bc_gdf_sampled_points[\"latitude\"], bc_gdf_sampled_points[\"longitude\"] = zip(\n",
    "    *bc_gdf_sampled_points[\"sampled_points\"].apply(lambda x: (x.y, x.x))\n",
    ")\n",
    "bc_gdf_sampled_points[\"H3_GRID_RES3\"] = bc_gdf_sampled_points.apply(\n",
    "    lambda x: h3.latlng_to_cell(x.latitude, x.longitude, 3), axis=1\n",
    ")\n",
    "\n",
    "bc_gdf_sampled_points = bc_gdf_sampled_points.drop_duplicates(\"H3_GRID_RES3\")\n",
    "bc_gdf_sampled_points = bc_gdf_sampled_points[[\"H3_GRID_RES3\"]]\n",
    "bc_gdf_sampled_points[\"H3_CHILDREN\"] = bc_gdf_sampled_points[\"H3_GRID_RES3\"].apply(\n",
    "    lambda x: h3.cell_to_children(x, 6)\n",
    ")\n",
    "bc_gdf_sampled_points = bc_gdf_sampled_points.explode(\"H3_CHILDREN\")\n",
    "bc_gdf_sampled_points[\"geometry\"] = bc_gdf_sampled_points[\"H3_CHILDREN\"].apply(\n",
    "    lambda x: Polygon(shape(h3.cells_to_geo([x])))\n",
    ")"
   ]
  },
  {
   "cell_type": "code",
   "execution_count": null,
   "id": "726555f0",
   "metadata": {},
   "outputs": [],
   "source": [
    "# bc_gdf_sampled_points"
   ]
  },
  {
   "cell_type": "code",
   "execution_count": null,
   "id": "4db517e5",
   "metadata": {},
   "outputs": [],
   "source": [
    "bc_gdf_sampled_points = gpd.GeoDataFrame(\n",
    "    bc_gdf_sampled_points[[\"H3_CHILDREN\", \"geometry\"]]\n",
    ")\n",
    "bc_gdf_sampled_points = bc_gdf_sampled_points.set_crs(\"EPSG:4326\")"
   ]
  },
  {
   "cell_type": "code",
   "execution_count": null,
   "id": "314af6d3",
   "metadata": {},
   "outputs": [],
   "source": [
    "bc_gdf_sampled_points[\"intersects\"] = bc_gdf_sampled_points[\"geometry\"].intersects(\n",
    "    bc_gdf.geometry\n",
    ")"
   ]
  },
  {
   "cell_type": "code",
   "execution_count": null,
   "id": "b504cf26",
   "metadata": {},
   "outputs": [],
   "source": [
    "bc_gdf_sampled_points[bc_gdf_sampled_points[\"intersects\"] == True].explore()"
   ]
  },
  {
   "cell_type": "code",
   "execution_count": null,
   "id": "d43f3853",
   "metadata": {},
   "outputs": [],
   "source": [
    "# Acartia Data\n",
    "acartia_export = pd.read_csv(\n",
    "    \"/Users/tylerstevenson/Documents/FindMyWhale/data/ACARTIA/acartia-export.csv\"\n",
    ")\n",
    "\n",
    "# Okay for now, where are things spotted?\n",
    "acartia_export[\"created\"] = acartia_export[\"created\"].str[0:20]\n",
    "acartia_export[\"created\"] = acartia_export[\"created\"].str.replace(\"T\", \" \")\n",
    "acartia_export[\"DATETIME\"] = pd.to_datetime(acartia_export[\"created\"], format=\"mixed\")\n",
    "acartia_export[\"DATE\"] = acartia_export[\"DATETIME\"].dt.date\n",
    "acartia_export = acartia_export[acartia_export.DATETIME > \"2022-01-01\"]\n",
    "acartia_export[\"MONTH-YEAR\"] = acartia_export[\"DATETIME\"].apply(\n",
    "    lambda x: f\"{x.year}-{x.month}-01\"\n",
    ")"
   ]
  },
  {
   "cell_type": "code",
   "execution_count": null,
   "id": "7825cec1",
   "metadata": {},
   "outputs": [],
   "source": [
    "acartia_export[\"H3_CHILDREN\"] = acartia_export.apply(\n",
    "    lambda x: h3.latlng_to_cell(x.latitude, x.longitude, 6), axis=1\n",
    ")"
   ]
  },
  {
   "cell_type": "code",
   "execution_count": null,
   "id": "172a2e83",
   "metadata": {},
   "outputs": [],
   "source": [
    "accart = acartia_export.groupby([\"H3_CHILDREN\"], as_index=False)[\"no_sighted\"].sum()\n",
    "accart = accart[accart.no_sighted < accart.no_sighted.max()]"
   ]
  },
  {
   "cell_type": "code",
   "execution_count": null,
   "id": "d9ede983",
   "metadata": {},
   "outputs": [],
   "source": [
    "accart = pd.merge(bc_gdf_sampled_points, accart, how=\"left\").fillna(0)\n",
    "accart[\"no_sighted_std\"] = (\n",
    "    accart[\"no_sighted\"] - accart[accart.no_sighted != 0][\"no_sighted\"].mean()\n",
    ") / accart[accart.no_sighted != 0][\"no_sighted\"].std()"
   ]
  },
  {
   "cell_type": "code",
   "execution_count": null,
   "id": "4bf50bf8",
   "metadata": {},
   "outputs": [],
   "source": [
    "accart[accart[\"intersects\"] == True].explore(\"no_sighted_std\")"
   ]
  },
  {
   "cell_type": "code",
   "execution_count": null,
   "id": "23b43ff0",
   "metadata": {},
   "outputs": [],
   "source": []
  },
  {
   "cell_type": "code",
   "execution_count": null,
   "id": "bd39796b",
   "metadata": {},
   "outputs": [],
   "source": [
    "tmp_date = acartia_export.groupby(\"DATE\")[\"no_sighted\"].count().reset_index()\n",
    "\n",
    "tmp_month_date = (\n",
    "    acartia_export.groupby(\"MONTH-YEAR\")[\"no_sighted\"].count().reset_index()\n",
    ")\n",
    "tmp_month_date[\"DATE\"] = pd.to_datetime(tmp_month_date[\"MONTH-YEAR\"])\n",
    "tmp_month_date = tmp_month_date.sort_values(\"DATE\").reset_index(drop=True)"
   ]
  },
  {
   "cell_type": "code",
   "execution_count": null,
   "id": "d8e2d5ae",
   "metadata": {},
   "outputs": [],
   "source": [
    "fig = px.line(tmp_date, x=\"DATE\", y=\"no_sighted\")\n",
    "fig.show()"
   ]
  },
  {
   "cell_type": "code",
   "execution_count": null,
   "id": "f8f1d304",
   "metadata": {},
   "outputs": [],
   "source": [
    "fig = px.line(tmp_month_date, x=\"DATE\", y=\"no_sighted\")\n",
    "fig.show()"
   ]
  },
  {
   "cell_type": "code",
   "execution_count": null,
   "id": "e9f570b0",
   "metadata": {},
   "outputs": [],
   "source": []
  },
  {
   "cell_type": "code",
   "execution_count": null,
   "id": "dcfbd19f",
   "metadata": {},
   "outputs": [],
   "source": [
    "# tmp[tmp.OBJECTID == 1].explore()"
   ]
  },
  {
   "cell_type": "code",
   "execution_count": null,
   "id": "5693b443",
   "metadata": {},
   "outputs": [],
   "source": [
    "# tmp.explore()"
   ]
  },
  {
   "cell_type": "code",
   "execution_count": null,
   "id": "0207716c",
   "metadata": {},
   "outputs": [],
   "source": []
  },
  {
   "cell_type": "code",
   "execution_count": null,
   "id": "032a8b5d",
   "metadata": {},
   "outputs": [],
   "source": [
    "# tmp[tmp.Shape_Area == tmp.Shape_Area.max()].explore()"
   ]
  },
  {
   "cell_type": "code",
   "execution_count": null,
   "id": "0e5861da",
   "metadata": {},
   "outputs": [],
   "source": []
  },
  {
   "cell_type": "code",
   "execution_count": null,
   "metadata": {},
   "outputs": [],
   "source": []
  },
  {
   "cell_type": "code",
   "execution_count": null,
   "id": "87aad73f",
   "metadata": {},
   "outputs": [],
   "source": []
  }
 ],
 "metadata": {
  "kernelspec": {
   "display_name": "orca",
   "language": "python",
   "name": "python3"
  },
  "language_info": {
   "codemirror_mode": {
    "name": "ipython",
    "version": 3
   },
   "file_extension": ".py",
   "mimetype": "text/x-python",
   "name": "python",
   "nbconvert_exporter": "python",
   "pygments_lexer": "ipython3",
   "version": "3.10.18"
  }
 },
 "nbformat": 4,
 "nbformat_minor": 5
}
